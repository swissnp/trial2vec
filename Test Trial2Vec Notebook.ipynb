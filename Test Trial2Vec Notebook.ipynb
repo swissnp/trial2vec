{
 "cells": [
  {
   "cell_type": "markdown",
   "id": "0b99b920",
   "metadata": {},
   "source": [
    "## **Testing Trial2Vec repository**"
   ]
  },
  {
   "cell_type": "code",
   "execution_count": 5,
   "id": "5ca7ff10",
   "metadata": {
    "scrolled": true
   },
   "outputs": [
    {
     "data": {
      "application/vnd.jupyter.widget-view+json": {
       "model_id": "0bda75ab46d446838c8d6e20fe43531b",
       "version_major": 2,
       "version_minor": 0
      },
      "text/plain": [
       "config.json:   0%|          | 0.00/385 [00:00<?, ?B/s]"
      ]
     },
     "metadata": {},
     "output_type": "display_data"
    },
    {
     "data": {
      "application/vnd.jupyter.widget-view+json": {
       "model_id": "e3b5c75ff05c44d1bcee31d3be7f80fa",
       "version_major": 2,
       "version_minor": 0
      },
      "text/plain": [
       "vocab.txt:   0%|          | 0.00/213k [00:00<?, ?B/s]"
      ]
     },
     "metadata": {},
     "output_type": "display_data"
    },
    {
     "name": "stderr",
     "output_type": "stream",
     "text": [
      "/Users/titipata/anaconda3/lib/python3.8/site-packages/transformers/tokenization_utils_base.py:1601: FutureWarning: `clean_up_tokenization_spaces` was not set. It will be set to `True` by default. This behavior will be depracted in transformers v4.45, and will be then set to `False` by default. For more details check this issue: https://github.com/huggingface/transformers/issues/31884\n",
      "  warnings.warn(\n"
     ]
    },
    {
     "data": {
      "application/vnd.jupyter.widget-view+json": {
       "model_id": "461cba1c56b5461d8e2f72a3fb819af2",
       "version_major": 2,
       "version_minor": 0
      },
      "text/plain": [
       "pytorch_model.bin:   0%|          | 0.00/436M [00:00<?, ?B/s]"
      ]
     },
     "metadata": {},
     "output_type": "display_data"
    },
    {
     "name": "stdout",
     "output_type": "stream",
     "text": [
      "Download pretrained Trial2Vec model, save to ./trial_search/pretrained_trial2vec.\n",
      "Load pretrained Trial2Vec model from ./trial_search/pretrained_trial2vec\n",
      "load predictor config file from ./trial_search/pretrained_trial2vec/model_config.json\n"
     ]
    }
   ],
   "source": [
    "from trial2vec import download_embedding\n",
    "t2v_emb = download_embedding()"
   ]
  },
  {
   "cell_type": "code",
   "execution_count": 9,
   "id": "7d8d2d85",
   "metadata": {},
   "outputs": [
    {
     "name": "stdout",
     "output_type": "stream",
     "text": [
      "Load pretrained Trial2Vec model from ./trial_search/pretrained_trial2vec\n",
      "load predictor config file from ./trial_search/pretrained_trial2vec/model_config.json\n"
     ]
    }
   ],
   "source": [
    "from trial2vec import Trial2Vec\n",
    "\n",
    "model = Trial2Vec(device=\"cpu\")\n",
    "\n",
    "model.from_pretrained()"
   ]
  },
  {
   "cell_type": "code",
   "execution_count": 20,
   "id": "c83baa72",
   "metadata": {},
   "outputs": [],
   "source": [
    "inputs = ['Pharmacologic Treatment Augmentation in Chronic Depression',\n",
    "          'Pharmacologic Treatment Augmentation in Depression']\n",
    "outputs = model.sentence_vector(inputs)"
   ]
  },
  {
   "cell_type": "code",
   "execution_count": 22,
   "id": "213a38d8",
   "metadata": {},
   "outputs": [],
   "source": [
    "from sklearn.metrics.pairwise import cosine_similarity"
   ]
  },
  {
   "cell_type": "code",
   "execution_count": 21,
   "id": "d72cd4b8",
   "metadata": {},
   "outputs": [
    {
     "data": {
      "text/plain": [
       "torch.Size([2, 128])"
      ]
     },
     "execution_count": 21,
     "metadata": {},
     "output_type": "execute_result"
    }
   ],
   "source": [
    "outputs.shape"
   ]
  },
  {
   "cell_type": "code",
   "execution_count": 26,
   "id": "fc4ea0a6",
   "metadata": {},
   "outputs": [
    {
     "data": {
      "text/plain": [
       "array([[0.9546094]], dtype=float32)"
      ]
     },
     "execution_count": 26,
     "metadata": {},
     "output_type": "execute_result"
    }
   ],
   "source": [
    "cosine_similarity(outputs[0, :].reshape(-1, 1).T, outputs[1,:].reshape(-1, 1).T)"
   ]
  },
  {
   "cell_type": "markdown",
   "id": "cdb00fe8",
   "metadata": {},
   "source": [
    "## **Parse inclusion, exclusion criteria with lxml**"
   ]
  },
  {
   "cell_type": "code",
   "execution_count": 2,
   "id": "b9152973",
   "metadata": {},
   "outputs": [],
   "source": [
    "import re\n",
    "from glob import glob\n",
    "from lxml import etree\n",
    "\n",
    "def extract_criteria(xml_file):\n",
    "    # Parse the XML file\n",
    "    tree = etree.parse(xml_file)\n",
    "    root = tree.getroot()\n",
    "\n",
    "    # Find the criteria textblock\n",
    "    criteria_textblock = root.xpath(\"//eligibility/criteria/textblock\")[0].text\n",
    "\n",
    "    # Split the criteria into inclusion and exclusion\n",
    "    criteria_parts = criteria_textblock.split(\"Exclusion Criteria:\")\n",
    "    inclusion_criteria = criteria_parts[0].split(\"Inclusion Criteria:\")[1].strip()\n",
    "    exclusion_criteria = criteria_parts[1].strip() if len(criteria_parts) > 1 else \"No exclusion criteria specified\"\n",
    "\n",
    "    return inclusion_criteria, exclusion_criteria\n",
    "\n",
    "def process_criteria(criteria_text):\n",
    "    lines = criteria_text.split('\\n')\n",
    "    lines = [line.strip() for line in lines if line.strip()]\n",
    "    \n",
    "    criteria_list = []\n",
    "    for line in lines:\n",
    "        # Remove bullet points and other formatting\n",
    "        line = re.sub(r'^\\s*-\\s*', '', line)\n",
    "        line = re.sub(r'^\\s*•\\s*', '', line)\n",
    "        if line and not line[0].isupper() and criteria_list:\n",
    "            criteria_list[-1] += ' ' + line\n",
    "        else:\n",
    "            criteria_list.append(line)\n",
    "    \n",
    "    return criteria_list"
   ]
  },
  {
   "cell_type": "code",
   "execution_count": 3,
   "id": "d3fabed3",
   "metadata": {},
   "outputs": [],
   "source": [
    "xml_paths = glob(\"/Users/titipata/Desktop/Misc_docs/ClinicalTrialGov/ctg-public-xml/*/*.xml\")"
   ]
  },
  {
   "cell_type": "code",
   "execution_count": 4,
   "id": "cb133bb2",
   "metadata": {},
   "outputs": [
    {
     "data": {
      "text/plain": [
       "'/Users/titipata/Desktop/Misc_docs/ClinicalTrialGov/ctg-public-xml/NCT0483xxxx/NCT04834141.xml'"
      ]
     },
     "execution_count": 4,
     "metadata": {},
     "output_type": "execute_result"
    }
   ],
   "source": [
    "xml_paths[10]"
   ]
  },
  {
   "cell_type": "code",
   "execution_count": 3,
   "id": "ad19804a",
   "metadata": {},
   "outputs": [],
   "source": [
    "inclusion_text, exclusion_text = extract_criteria(xml_paths[10])\n",
    "inclusion_list = process_criteria(inclusion_text)\n",
    "exclusion_list = process_criteria(exclusion_text)"
   ]
  },
  {
   "cell_type": "code",
   "execution_count": 44,
   "id": "725eb1e9",
   "metadata": {},
   "outputs": [
    {
     "data": {
      "text/plain": [
       "['Adults aged 18 and over willing to attend the study.',\n",
       " 'For those who join the thoracic kyphosis group, individuals with a kyphosis angle ≥ 40 degrees.',\n",
       " 'Individuals with a kyphosis angle < 40 degrees for the control group.']"
      ]
     },
     "execution_count": 44,
     "metadata": {},
     "output_type": "execute_result"
    }
   ],
   "source": [
    "inclusion_list"
   ]
  },
  {
   "cell_type": "code",
   "execution_count": 45,
   "id": "62704acb",
   "metadata": {},
   "outputs": [
    {
     "data": {
      "text/plain": [
       "['Spine trauma, surgery, bone pathology, arthritis etc. have a history of illness',\n",
       " \"Kyphotic deformity types are rounded back, Scheuermann's disease, hunched back, flat back and Dowager hump.\",\n",
       " 'Any spinal deformity, bone abnormality, postural deformity and disc herniation with / without peripheral symptoms.',\n",
       " 'Body mass index (BMI), which is an indicator of obesity, is more than > 30.',\n",
       " 'Complaining of balance problems, coordination problems, other neurological or vestibular diseases that affect body balance and posture.',\n",
       " 'Having any orthopedic or neurological disease that affects the body joints or the integrity of the musculoskeletal system.',\n",
       " 'Use of any medication that can cause dizziness or drowsiness in the last months.']"
      ]
     },
     "execution_count": 45,
     "metadata": {},
     "output_type": "execute_result"
    }
   ],
   "source": [
    "exclusion_list"
   ]
  },
  {
   "cell_type": "markdown",
   "id": "45f673f5",
   "metadata": {},
   "source": [
    "## **Gemini to generate inclusion and exclusion criteria**"
   ]
  },
  {
   "cell_type": "code",
   "execution_count": 34,
   "id": "ecb15b70",
   "metadata": {},
   "outputs": [],
   "source": [
    "from google.oauth2 import service_account\n",
    "from google.cloud import aiplatform\n",
    "from vertexai.generative_models import GenerativeModel, Part, Image\n",
    "\n",
    "project_name = \"cpf-generative-ai\" # ใส่ชื่อ project ที่นี้\n",
    "json_path = \"/Users/titipata/Documents/git/cpf-generative-ai-c7a9717e186a.json\"\n",
    "credentials = service_account.Credentials.from_service_account_file(json_path) # ใส่ path ไปยัง JSON file ที่นี่\n",
    "aiplatform.init(project=project_name, credentials=credentials)"
   ]
  },
  {
   "cell_type": "code",
   "execution_count": 32,
   "id": "34f07f0f",
   "metadata": {},
   "outputs": [
    {
     "name": "stdout",
     "output_type": "stream",
     "text": [
      "Based on the following clinical study information, generate potential inclusion and exclusion criteria:\n",
      "\n",
      "Title: Correlation Between Thoracic Kyphosis Posture and Static Balance\n",
      "\n",
      "Description: Background:\r\n",
      "\r\n",
      "Kyphosis is roughly a slight forward curvature of the spine. A slight kyphosis or\r\n",
      "posterior curvature is normal throughout the human body and is present in every\r\n",
      "individual. Hyperkyphotic is a kyphotic angle greater than 40° commonly measured on a\r\n",
      "lateral X-ray measured by the Cobb method between C7 and T12. Postural stability or\r\n",
      "balance is the ability to keep the center of mass within the boundaries of the support\r\n",
      "base. Moving the center of mass beyond the boundaries of the support base may cause\r\n",
      "postural instability and loss of balance. There are studies showing that kyphotic posture\r\n",
      "affects the center of gravity and affects fall in the elderly, but there are limited\r\n",
      "studies on the effect of balance in young individuals.\r\n",
      "\r\n",
      "The Aim of This Study Is:\r\n",
      "\r\n",
      "To study the correlation between the balance and severity of thoracic kyphosis will be\r\n",
      "investigated\n",
      "\n",
      "Please provide a list of inclusion criteria and a list of exclusion criteria that would be appropriate for this study. Format your response as follows:\n",
      "\n",
      "Inclusion Criteria:\n",
      "1. [Criterion 1]\n",
      "2. [Criterion 2]\n",
      "...\n",
      "\n",
      "Exclusion Criteria:\n",
      "1. [Criterion 1]\n",
      "2. [Criterion 2]\n",
      "...\n",
      "\n"
     ]
    }
   ],
   "source": [
    "from lxml import etree\n",
    "\n",
    "def extract_info_and_generate_prompt(xml_file):\n",
    "    # Parse the XML file\n",
    "    tree = etree.parse(xml_file)\n",
    "    root = tree.getroot()\n",
    "\n",
    "    # Extract title and description\n",
    "    title = root.xpath(\"//brief_title\")[0].text.strip()\n",
    "    description = root.xpath(\"//detailed_description/textblock\")[0].text.strip()\n",
    "\n",
    "    # Generate prompt for Gemini\n",
    "    prompt = f\"\"\"Based on the following clinical study information, generate potential inclusion and exclusion criteria:\n",
    "\n",
    "Title: {title}\n",
    "\n",
    "Description: {description}\n",
    "\n",
    "Please provide a list of inclusion criteria and a list of exclusion criteria that would be appropriate for this study. Format your response as follows:\n",
    "\n",
    "Inclusion Criteria:\n",
    "1. [Criterion 1]\n",
    "2. [Criterion 2]\n",
    "...\n",
    "\n",
    "Exclusion Criteria:\n",
    "1. [Criterion 1]\n",
    "2. [Criterion 2]\n",
    "...\n",
    "\"\"\"\n",
    "\n",
    "    return prompt\n",
    "\n",
    "def get_response(prompt, model_name=\"gemini-1.5-flash\"):\n",
    "    \"\"\"\n",
    "    ฟังก์ชันสำหรับรับคำตอบจากโมเดล AI\n",
    "    \n",
    "    Args:\n",
    "    prompt (str): คำถามหรือข้อความที่ต้องการให้ AI ตอบ\n",
    "    model_name (str): ชื่อของโมเดลที่ต้องการใช้ (ค่าเริ่มต้นคือ \"gemini-pro\")\n",
    "    \n",
    "    Returns:\n",
    "    str: ข้อความตอบกลับจาก AI\n",
    "    \"\"\"\n",
    "    model = GenerativeModel(model_name)\n",
    "    response = model.generate_content(prompt)\n",
    "    return response.text\n",
    "\n",
    "# Example usage\n",
    "xml_file = xml_paths[10]  # Replace with the path to your XML file\n",
    "gemini_prompt = extract_info_and_generate_prompt(xml_file)\n",
    "print(gemini_prompt)"
   ]
  },
  {
   "cell_type": "code",
   "execution_count": 9,
   "id": "777b4b76",
   "metadata": {},
   "outputs": [],
   "source": [
    "criteria_pred = get_response(gemini_prompt)"
   ]
  },
  {
   "cell_type": "code",
   "execution_count": 11,
   "id": "a368e3c5",
   "metadata": {},
   "outputs": [
    {
     "name": "stdout",
     "output_type": "stream",
     "text": [
      "## Inclusion Criteria:\n",
      "\n",
      "1. **Age:** Participants must be between the ages of [specify age range] (e.g., 18-35 years old). This ensures the study focuses on a specific age group and minimizes confounding factors from different age groups.\n",
      "2. **Thoracic Kyphosis:** Participants must have a measurable thoracic kyphosis angle, determined via a lateral X-ray using the Cobb method. This ensures the study includes individuals with varying degrees of kyphosis for correlation analysis.\n",
      "3. **No History of Neurological Disorders:** Participants should have no history of neurological disorders or injuries that could affect their balance (e.g., stroke, Parkinson's disease, spinal cord injury). This eliminates potential confounding factors related to neurological impairment.\n",
      "4. **No History of Musculoskeletal Conditions:** Participants should not have any existing musculoskeletal conditions that could affect their posture or balance (e.g., scoliosis, osteoarthritis, spinal stenosis). This ensures that the study's focus remains on the correlation between kyphosis and balance, not other musculoskeletal issues.\n",
      "5. **Ability to Understand and Consent:** Participants must be able to understand and voluntarily consent to participate in the study. This ensures ethical research practices and informed consent.\n",
      "\n",
      "## Exclusion Criteria:\n",
      "\n",
      "1. **Pregnancy:** Pregnant women should be excluded from the study as pregnancy can significantly impact posture and balance.\n",
      "2. **Active Use of Balance-Affecting Medications:** Participants using medications that could affect balance (e.g., anticonvulsants, sedatives) should be excluded. This prevents potential confounding factors related to medication side effects.\n",
      "3. **Significant Visual Impairment:** Individuals with significant visual impairment that could affect balance should be excluded. This ensures the study accurately assesses balance without the influence of visual limitations.\n",
      "4. **History of Falls:** Participants with a recent history of falls (within the last 6 months) should be excluded. This reduces the risk of further falls during the study and minimizes the possibility of study participation contributing to falls.\n",
      "5. **Participation in Other Studies:** Participants currently enrolled in other research studies involving balance or posture assessment should be excluded. This avoids potential confounding factors from simultaneous study participation. \n",
      "6. **Inability to Stand for the Duration of Testing:** Participants who are unable to stand for the duration of the balance assessment should be excluded. This ensures the study's validity by requiring participants to stand for the required time.\n",
      "\n",
      "**Note:**  This is a sample list of potential inclusion and exclusion criteria. The specific criteria should be tailored to the research design, population of interest, and available resources. It's crucial to consult with a research ethics board or other relevant committees for guidance. \n",
      "\n"
     ]
    }
   ],
   "source": [
    "print(criteria_pred)"
   ]
  },
  {
   "cell_type": "code",
   "execution_count": 16,
   "id": "1d9786e4",
   "metadata": {},
   "outputs": [],
   "source": [
    "def generate_comparison_prompt(xml_file, gemini_generated_criteria):\n",
    "    actual_inclusion, actual_exclusion = extract_criteria(xml_file)\n",
    "    \n",
    "    prompt = f\"\"\"Compare the following sets of inclusion and exclusion criteria:\n",
    "\n",
    "Actual Criteria (from the study):\n",
    "\n",
    "Inclusion Criteria:\n",
    "{actual_inclusion}\n",
    "\n",
    "Exclusion Criteria:\n",
    "{actual_exclusion}\n",
    "\n",
    "Generated Criteria:\n",
    "{gemini_generated_criteria}\n",
    "\n",
    "Please analyze and compare these two sets of criteria. In your analysis:\n",
    "1. Identify any criteria that are present in both sets.\n",
    "2. Highlight any important criteria from the actual set that are missing in the generated set.\n",
    "3. Point out any criteria in the generated set that might not be necessary or relevant based on the actual criteria.\n",
    "4. Provide an overall assessment of how well the generated criteria match the actual criteria in terms of relevance and comprehensiveness.\n",
    "5. Suggest any improvements that could be made to the generated criteria to better align with the actual study requirements.\n",
    "\n",
    "Format your response in JSON format in a clear, structured manner, addressing each of these points separately.\"\"\"\n",
    "\n",
    "    return prompt"
   ]
  },
  {
   "cell_type": "code",
   "execution_count": 21,
   "id": "0dd91a95",
   "metadata": {},
   "outputs": [],
   "source": [
    "actual_inclusion, actual_exclusion = extract_criteria(xml_file)"
   ]
  },
  {
   "cell_type": "code",
   "execution_count": 30,
   "id": "d162f30c",
   "metadata": {},
   "outputs": [],
   "source": [
    "# print(\"Inclusion Criteria: \\n\")\n",
    "# print(actual_inclusion)\n",
    "# print(\"Exclusion Criteria: \\n\")\n",
    "# print(actual_exclusion)\n",
    "\n",
    "# print(\"\\n\\nPredicted Criteria: \\n\")\n",
    "# print(criteria_pred)"
   ]
  },
  {
   "cell_type": "code",
   "execution_count": 17,
   "id": "d166a23e",
   "metadata": {},
   "outputs": [],
   "source": [
    "comparison_prompt = generate_comparison_prompt(xml_file, criteria_pred)\n",
    "comparison = get_response(comparison_prompt)"
   ]
  },
  {
   "cell_type": "code",
   "execution_count": 19,
   "id": "74da32b1",
   "metadata": {
    "scrolled": false
   },
   "outputs": [
    {
     "name": "stdout",
     "output_type": "stream",
     "text": [
      "```json\n",
      "{\n",
      "  \"analysis\": {\n",
      "    \"common_criteria\": [\n",
      "      {\n",
      "        \"criteria\": \"Age\",\n",
      "        \"description\": \"Both sets include an age criterion, though the actual criteria simply states 'adults aged 18 and over', while the generated criteria specifies an age range.\"\n",
      "      },\n",
      "      {\n",
      "        \"criteria\": \"History of Neurological Disorders\",\n",
      "        \"description\": \"Both sets exclude individuals with a history of neurological disorders, with the actual criteria mentioning 'other neurological or vestibular diseases that affect body balance and posture' and the generated criteria focusing on balance-affecting neurological conditions.\"\n",
      "      },\n",
      "      {\n",
      "        \"criteria\": \"History of Musculoskeletal Conditions\",\n",
      "        \"description\": \"Both sets exclude individuals with existing musculoskeletal conditions that could affect posture or balance. The actual criteria mentions 'orthopedic or neurological disease that affects the body joints or the integrity of the musculoskeletal system', while the generated criteria lists specific examples like scoliosis, osteoarthritis, and spinal stenosis.\"\n",
      "      }\n",
      "    ],\n",
      "    \"missing_criteria_from_generated_set\": [\n",
      "      {\n",
      "        \"criteria\": \"Thoracic Kyphosis Angle\",\n",
      "        \"description\": \"The actual criteria specifically defines inclusion based on kyphosis angle, with separate groups for those with ≥ 40 degrees and < 40 degrees. This criterion is completely absent in the generated set.\"\n",
      "      },\n",
      "      {\n",
      "        \"criteria\": \"BMI\",\n",
      "        \"description\": \"The actual criteria excludes individuals with a BMI > 30, which is not mentioned in the generated criteria. This criterion could be crucial for controlling for the influence of obesity on balance.\"\n",
      "      },\n",
      "      {\n",
      "        \"criteria\": \"Medication Use\",\n",
      "        \"description\": \"The actual criteria excludes individuals who use medications causing dizziness or drowsiness. The generated criteria only excludes those using balance-affecting medications, potentially overlooking other medications that could indirectly affect balance.\"\n",
      "      },\n",
      "      {\n",
      "        \"criteria\": \"Specific Spinal Deformities\",\n",
      "        \"description\": \"The actual criteria lists specific types of kyphotic deformities like Scheuermann's disease and Dowager hump, which are not mentioned in the generated criteria. This could be relevant for narrowing the focus of the study.\"\n",
      "      },\n",
      "      {\n",
      "        \"criteria\": \"Spinal Deformity & Disc Herniation\",\n",
      "        \"description\": \"The actual criteria excludes individuals with any spinal deformity, bone abnormality, postural deformity and disc herniation. The generated criteria focuses on conditions affecting posture and balance, potentially overlooking other spinal issues that could confound the study.\"\n",
      "      },\n",
      "      {\n",
      "        \"criteria\": \"Spine Trauma and Surgery\",\n",
      "        \"description\": \"The actual criteria excludes individuals with a history of spine trauma, surgery, or bone pathology. This criterion is not included in the generated set, potentially overlooking a relevant factor for balance and posture.\"\n",
      "      }\n",
      "    ],\n",
      "    \"irrelevant_criteria_in_generated_set\": [\n",
      "      {\n",
      "        \"criteria\": \"Pregnancy\",\n",
      "        \"description\": \"While pregnancy can affect balance, it's unlikely to be a significant factor in a study focusing on adults with kyphosis, making this criterion potentially irrelevant.\"\n",
      "      },\n",
      "      {\n",
      "        \"criteria\": \"Significant Visual Impairment\",\n",
      "        \"description\": \"The actual criteria focuses on balance issues related to posture and neurological conditions, making significant visual impairment potentially less relevant for the study.\"\n",
      "      },\n",
      "      {\n",
      "        \"criteria\": \"History of Falls\",\n",
      "        \"description\": \"While a history of falls can be a concern, it's not explicitly mentioned in the actual criteria. This criterion may be more relevant for studies focusing on fall risk assessment.\"\n",
      "      },\n",
      "      {\n",
      "        \"criteria\": \"Participation in Other Studies\",\n",
      "        \"description\": \"This criterion may be helpful for avoiding confounding factors but isn't explicitly mentioned in the actual criteria and could be considered less crucial compared to other criteria.\"\n",
      "      },\n",
      "      {\n",
      "        \"criteria\": \"Inability to Stand for the Duration of Testing\",\n",
      "        \"description\": \"This criterion seems relevant for a balance assessment but is not mentioned in the actual criteria. It may be better to assess the participant's ability to stand for the duration of testing during the screening process rather than excluding them entirely.\"\n",
      "      }\n",
      "    ],\n",
      "    \"overall_assessment\": \"The generated criteria, while including some relevant points, is not as comprehensive or aligned with the actual criteria. It lacks key criteria from the actual study, particularly those defining kyphosis groups and specific exclusions based on spinal conditions, BMI, and medication use. Additionally, some of the generated criteria seem irrelevant or less crucial for the specific focus of the actual study.\",\n",
      "    \"improvements\": [\n",
      "      {\n",
      "        \"suggestion\": \"Include the criterion for thoracic kyphosis angle, with specific inclusion criteria for different kyphosis angle groups (≥ 40 degrees and < 40 degrees) as outlined in the actual criteria.\"\n",
      "      },\n",
      "      {\n",
      "        \"suggestion\": \"Add the criterion for BMI exclusion, limiting participants with BMI > 30 as per the actual criteria.\"\n",
      "      },\n",
      "      {\n",
      "        \"suggestion\": \"Incorporate the criterion for medication use, excluding participants taking medications that can cause dizziness or drowsiness, as mentioned in the actual criteria.\"\n",
      "      },\n",
      "      {\n",
      "        \"suggestion\": \"Include the specific types of kyphotic deformities listed in the actual criteria (rounded back, Scheuermann's disease, hunched back, flat back, Dowager hump) for a more focused study population.\"\n",
      "      },\n",
      "      {\n",
      "        \"suggestion\": \"Expand the exclusion criteria related to spinal deformities and disc herniation to align with the comprehensive exclusion statement in the actual criteria.\"\n",
      "      },\n",
      "      {\n",
      "        \"suggestion\": \"Consider adding the criterion for spine trauma, surgery, and bone pathology exclusion, as mentioned in the actual criteria.\"\n",
      "      },\n",
      "      {\n",
      "        \"suggestion\": \"Remove the criteria for pregnancy, significant visual impairment, history of falls, participation in other studies, and inability to stand for the duration of testing as they are not mentioned in the actual criteria and may be less relevant.\"\n",
      "      }\n",
      "    ]\n",
      "  }\n",
      "}\n",
      "```\n"
     ]
    }
   ],
   "source": [
    "print(comparison)"
   ]
  },
  {
   "cell_type": "markdown",
   "id": "16ac6d5a",
   "metadata": {},
   "source": [
    "## **Generate CoT**"
   ]
  },
  {
   "cell_type": "code",
   "execution_count": 24,
   "id": "dc37ca8f",
   "metadata": {},
   "outputs": [],
   "source": [
    "def extract_info_from_xml(xml_file):\n",
    "    # Parse the XML file\n",
    "    tree = etree.parse(xml_file)\n",
    "    root = tree.getroot()\n",
    "\n",
    "    # Extract title and description\n",
    "    title = root.xpath(\"//brief_title\")[0].text.strip()\n",
    "    description = root.xpath(\"//detailed_description/textblock\")[0].text.strip()\n",
    "\n",
    "    criteria_textblock = root.xpath(\"//eligibility/criteria/textblock\")[0].text\n",
    "    criteria_parts = criteria_textblock.split(\"Exclusion Criteria:\")\n",
    "    inclusion_criteria = criteria_parts[0].split(\"Inclusion Criteria:\")[1].strip()\n",
    "    exclusion_criteria = criteria_parts[1].strip() if len(criteria_parts) > 1 else \"No exclusion criteria specified\"\n",
    "\n",
    "    return {\n",
    "        \"title\": title,\n",
    "        \"description\": description,\n",
    "        \"inclusion_criteria\": inclusion_criteria,\n",
    "        \"exclusion_criteria\": exclusion_criteria\n",
    "    }"
   ]
  },
  {
   "cell_type": "code",
   "execution_count": 7,
   "id": "e84fb20a",
   "metadata": {},
   "outputs": [],
   "source": [
    "xml_file = xml_paths[10]\n",
    "extracted_keys = extract_info_from_xml(xml_file)"
   ]
  },
  {
   "cell_type": "code",
   "execution_count": 38,
   "id": "9cca91a8",
   "metadata": {},
   "outputs": [],
   "source": [
    "def generate_explanation_prompt(title, description, inclusion_criteria, exclusion_criteria):\n",
    "    prompt = f\"\"\"Study Title: {title}\n",
    "\n",
    "Study Description: {description}\n",
    "\n",
    "Based on the study title, description, and the following inclusion and exclusion criteria, please provide a detailed explanation for why each criterion was likely chosen. Consider the study's objectives, potential confounding factors, and ethical considerations in your explanation.\n",
    "\n",
    "Inclusion Criteria: {inclusion_criteria}\n",
    "\n",
    "Exclusion Criteria: {exclusion_criteria}\n",
    "\n",
    "For each criterion, please provide:\n",
    "1. The likely reason for including or excluding this specific group according to the title and description of the study.\n",
    "2. How this criterion relates to the study's objectives.\n",
    "3. Any potential biases or limitations this criterion might introduce.\n",
    "4. Any ethical considerations related to this criterion.\n",
    "\n",
    "Please structure your response by addressing each criterion separately, clearly indicating whether it's an inclusion or exclusion criterion.\"\"\"\n",
    "    return prompt"
   ]
  },
  {
   "cell_type": "code",
   "execution_count": 39,
   "id": "a56ebb2a",
   "metadata": {},
   "outputs": [],
   "source": [
    "generate_prompt = generate_explanation_prompt(\n",
    "    extracted_keys[\"title\"], extracted_keys[\"description\"],\n",
    "    extracted_keys[\"inclusion_criteria\"], extracted_keys[\"exclusion_criteria\"]\n",
    ")"
   ]
  },
  {
   "cell_type": "code",
   "execution_count": 40,
   "id": "0e3d82c0",
   "metadata": {},
   "outputs": [],
   "source": [
    "explanation = get_response(generate_prompt)"
   ]
  },
  {
   "cell_type": "code",
   "execution_count": 41,
   "id": "1ef78e2d",
   "metadata": {},
   "outputs": [
    {
     "name": "stdout",
     "output_type": "stream",
     "text": [
      "## Inclusion/Exclusion Criteria Analysis:\n",
      "\n",
      "**1. Inclusion Criterion: Adults aged 18 and over willing to attend the study.**\n",
      "\n",
      "* **Reason:** This criterion ensures the study participants are legally capable of providing informed consent and understanding the study procedures.  \n",
      "* **Relation to Objectives:** Focusing on adults eliminates age-related developmental variations in spinal curvature and balance abilities, allowing for a more focused analysis of the relationship between thoracic kyphosis and balance in a mature population.\n",
      "* **Potential Biases:**  This criterion may introduce bias by limiting the study to a specific age group.  There may be different relationships between kyphosis and balance in adolescents or older adults.\n",
      "* **Ethical Considerations:** This criterion aligns with ethical research practices by ensuring participants are of legal age to provide informed consent and participate in the study.\n",
      "\n",
      "**2. Inclusion Criterion: Individuals with a kyphosis angle ≥ 40 degrees (Thoracic Kyphosis Group).**\n",
      "\n",
      "* **Reason:**  This criterion defines the study group with a clinically significant degree of thoracic kyphosis, enabling the study to focus on a population with a clear distinction in spinal curvature.\n",
      "* **Relation to Objectives:**  By focusing on individuals with hyperkyphosis, the study can investigate the correlation between the severity of kyphosis and balance.\n",
      "* **Potential Biases:** This criterion might introduce selection bias by focusing on individuals with a specific kyphosis severity level.  The relationship between kyphosis and balance may differ for individuals with milder degrees of kyphosis.\n",
      "* **Ethical Considerations:** This criterion ensures the study participants meet the established clinical definition of hyperkyphosis, aligning with ethical research practices that prioritize participant safety and the relevance of findings.\n",
      "\n",
      "**3. Inclusion Criterion: Individuals with a kyphosis angle < 40 degrees (Control Group).**\n",
      "\n",
      "* **Reason:**  This criterion defines the control group with normal or mild kyphosis, providing a comparison point to assess the impact of hyperkyphosis on balance.\n",
      "* **Relation to Objectives:** By including a control group, the study can establish a baseline for balance abilities in individuals without significant thoracic kyphosis, allowing for a meaningful comparison with the hyperkyphosis group.\n",
      "* **Potential Biases:** This criterion could introduce selection bias by choosing individuals with a specific range of kyphosis severity in the control group.  The relationship between kyphosis and balance may differ for individuals with even milder degrees of kyphosis.\n",
      "* **Ethical Considerations:** This criterion ensures the study participants are appropriately categorized based on their spinal curvature, aligning with ethical research practices that prioritize accurate data collection and interpretation.\n",
      "\n",
      "**4. Exclusion Criterion: Spine trauma, surgery, bone pathology, arthritis, etc., with a history of illness.**\n",
      "\n",
      "* **Reason:** This criterion aims to eliminate participants with potential pre-existing spinal conditions that could influence their balance and confound the study findings.\n",
      "* **Relation to Objectives:** By excluding individuals with pre-existing spinal issues, the study focuses on the specific effect of thoracic kyphosis on balance, eliminating the confounding effect of other spinal pathologies.\n",
      "* **Potential Biases:**  This criterion might introduce bias by excluding individuals with potential spinal issues that could actually influence the relationship between kyphosis and balance, potentially limiting the generalizability of the findings.\n",
      "* **Ethical Considerations:** This criterion prioritizes the safety and well-being of the participants by avoiding exposing them to unnecessary risks due to pre-existing spinal conditions that may affect their ability to participate in the study.\n",
      "\n",
      "**5. Exclusion Criterion: Any spinal deformity, bone abnormality, postural deformity, and disc herniation with/without peripheral symptoms.**\n",
      "\n",
      "* **Reason:**  This criterion aims to eliminate individuals with other spinal or postural deformities that could contribute to balance problems and confound the study's findings.\n",
      "* **Relation to Objectives:** By excluding individuals with other spinal issues, the study isolates the effect of thoracic kyphosis on balance, ensuring that other postural deformities are not contributing to any observed differences in balance.\n",
      "* **Potential Biases:** This criterion might introduce bias by excluding individuals with other spinal deformities that could impact their balance, potentially limiting the generalizability of the findings.\n",
      "* **Ethical Considerations:** This criterion ensures the study participants have a specific and clearly defined spinal condition (thoracic kyphosis), aligning with ethical research practices that prioritize accurate data collection and interpretation.\n",
      "\n",
      "**6. Exclusion Criterion: Body mass index (BMI) more than 30.**\n",
      "\n",
      "* **Reason:** This criterion aims to eliminate individuals with obesity, which can affect balance and mobility, potentially confounding the study's results.\n",
      "* **Relation to Objectives:** By excluding individuals with high BMI, the study focuses on the specific effect of thoracic kyphosis on balance, controlling for the influence of obesity on balance abilities.\n",
      "* **Potential Biases:**  This criterion might introduce bias by excluding individuals with high BMI, potentially limiting the generalizability of the findings to a wider population.\n",
      "* **Ethical Considerations:** This criterion aligns with ethical research practices by considering the health and well-being of participants with high BMI who may be at increased risk of complications during the study.\n",
      "\n",
      "**7. Exclusion Criterion: Complaining of balance problems, coordination problems, other neurological or vestibular diseases that affect body balance and posture.**\n",
      "\n",
      "* **Reason:**  This criterion aims to exclude individuals with pre-existing balance issues that could confound the study's results.\n",
      "* **Relation to Objectives:** By excluding individuals with pre-existing balance problems, the study focuses on the specific effect of thoracic kyphosis on balance, minimizing the impact of other factors contributing to balance difficulties.\n",
      "* **Potential Biases:** This criterion might introduce bias by excluding individuals with pre-existing balance problems who could offer valuable insights into the interplay between kyphosis and balance issues.\n",
      "* **Ethical Considerations:** This criterion prioritizes participant safety by avoiding exposing them to unnecessary risks due to pre-existing balance problems, aligning with ethical research practices.\n",
      "\n",
      "**8. Exclusion Criterion: Having any orthopedic or neurological disease that affects the body joints or the integrity of the musculoskeletal system.**\n",
      "\n",
      "* **Reason:** This criterion aims to exclude individuals with musculoskeletal conditions that could affect their balance and confound the study's results.\n",
      "* **Relation to Objectives:** By excluding individuals with musculoskeletal conditions, the study focuses on the specific effect of thoracic kyphosis on balance, minimizing the influence of other factors that could affect balance.\n",
      "* **Potential Biases:** This criterion might introduce bias by excluding individuals with musculoskeletal conditions that could offer valuable insights into the interplay between kyphosis and balance issues.\n",
      "* **Ethical Considerations:** This criterion prioritizes participant safety by avoiding exposing them to unnecessary risks due to pre-existing musculoskeletal conditions, aligning with ethical research practices.\n",
      "\n",
      "**9. Exclusion Criterion: Use of any medication that can cause dizziness or drowsiness in the last months.**\n",
      "\n",
      "* **Reason:**  This criterion aims to exclude individuals whose medications could affect their balance and confound the study's results.\n",
      "* **Relation to Objectives:** By excluding individuals with medications that affect balance, the study focuses on the specific effect of thoracic kyphosis on balance, minimizing the influence of medication-induced balance problems.\n",
      "* **Potential Biases:** This criterion might introduce bias by excluding individuals taking medications that could affect their balance, potentially limiting the generalizability of the findings to a broader population.\n",
      "* **Ethical Considerations:** This criterion prioritizes participant safety by avoiding exposing them to unnecessary risks due to medication-induced balance problems, aligning with ethical research practices.\n",
      "\n",
      "## Overall Considerations:\n",
      "\n",
      "The inclusion and exclusion criteria for this study reflect a balance between controlling for potential confounding factors and ensuring the relevance and generalizability of the findings. However, the criteria could potentially introduce bias by excluding individuals with specific characteristics. Further research with broader inclusion criteria is needed to investigate the relationships between kyphosis and balance in a more diverse population. Additionally, considering factors like age, sex, and level of physical activity in the study design could provide more nuanced insights into the correlation between thoracic kyphosis and static balance.\n",
      "\n"
     ]
    }
   ],
   "source": [
    "print(explanation)"
   ]
  },
  {
   "cell_type": "code",
   "execution_count": null,
   "id": "ab50614b",
   "metadata": {},
   "outputs": [],
   "source": []
  }
 ],
 "metadata": {
  "kernelspec": {
   "display_name": "ML",
   "language": "python",
   "name": "python3"
  },
  "language_info": {
   "codemirror_mode": {
    "name": "ipython",
    "version": 3
   },
   "file_extension": ".py",
   "mimetype": "text/x-python",
   "name": "python",
   "nbconvert_exporter": "python",
   "pygments_lexer": "ipython3",
   "version": "3.11.9"
  }
 },
 "nbformat": 4,
 "nbformat_minor": 5
}
