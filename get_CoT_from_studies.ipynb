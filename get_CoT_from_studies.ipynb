{
 "cells": [
  {
   "cell_type": "markdown",
   "metadata": {},
   "source": [
    "\n",
    "## Chain of Thought (CoT) Creation\n",
    "\n",
    "In this notebook, we aim to create a Chain of Thought (CoT) for clinical trial studies using HuggingFace's transformers and other relevant libraries. Below is a step-by-step guide to our workflow:\n",
    "\n",
    "1. **Setup and Initialization**:\n",
    "  - We initialize the ChromaDB client and load the SentenceTransformer model for encoding queries.\n",
    "  - We define a function to fix invalid JSON strings, which is crucial for handling the metadata of clinical trial studies.\n",
    "\n",
    "2. **Retrieving Relevant Studies**:\n",
    "  - We define a function `retrieve_relevant_studies` that queries the ChromaDB collection to find studies relevant to a given query, excluding the study already present in the query.\n",
    "\n",
    "3. **Crafting Context from Studies**:\n",
    "  - We define a function `craft_context_from_studies_documents` to create a context string from the documents of related studies. This context is used to provide examples in the CoT creation process.\n",
    "\n",
    "4. **Generating Messages for CoT**:\n",
    "  - We define a function `get_messages_for_create_CoT` that generates the system and user messages required for creating a CoT. These messages include the study title, description, and desired criteria.\n",
    "\n",
    "5. **Prompt Creation**:\n",
    "  - We define a function `get_prompt_from_studies` that uses the above functions to generate the complete prompt for a given study. This prompt includes the context from related studies and the task instructions for generating the CoT.\n",
    "\n",
    "6. **Model Inference**:\n",
    "  - We load the HuggingFace model and tokenizer, and define a function `pipe` to generate the CoT using the model. The function takes the generated messages as input and returns the model's output.\n",
    "  - For Gemini, can use the function in the gemini section to generate the CoT.\n",
    "\n",
    "By following this workflow, we can systematically generate a Chain of Thought for clinical trial studies, leveraging the capabilities of HuggingFace's transformers and other relevant tools.\n",
    "```"
   ]
  },
  {
   "cell_type": "code",
   "execution_count": 1,
   "metadata": {},
   "outputs": [
    {
     "name": "stderr",
     "output_type": "stream",
     "text": [
      "/home/swiss/miniconda3/envs/ML/lib/python3.11/site-packages/sentence_transformers/cross_encoder/CrossEncoder.py:11: TqdmExperimentalWarning: Using `tqdm.autonotebook.tqdm` in notebook mode. Use `tqdm.tqdm` instead to force console mode (e.g. in jupyter console)\n",
      "  from tqdm.autonotebook import tqdm, trange\n"
     ]
    }
   ],
   "source": [
    "import chromadb\n",
    "from sentence_transformers import SentenceTransformer\n",
    "from client import Client\n",
    "from prompt_gen import PromptGen\n",
    "\n",
    "client = chromadb.PersistentClient(path=\"./clinical_trials_chroma_all\")\n",
    "embed_model = SentenceTransformer(\"malteos/scincl\")\n",
    "collection = client.get_or_create_collection(\"clinical_trials_studies\")\n",
    "\n",
    "\n",
    "client = Client(\n",
    "  client=client,\n",
    "  collection=collection,\n",
    "  embed_model=embed_model\n",
    ")\n",
    "\n",
    "prompt_gen = PromptGen(\n",
    "  client=client\n",
    ")\n"
   ]
  },
  {
   "cell_type": "code",
   "execution_count": 2,
   "metadata": {},
   "outputs": [
    {
     "name": "stdout",
     "output_type": "stream",
     "text": [
      "[{'id': 'NCT05457686', 'distance': 30.776390075683594, 'document': '{\"metadata\": {\"NCT_ID\": \"NCT05457686\", \"Brief_Title\": \"The Efficacy of Kinesiotaping on Pain, Edema and Functionality After Total Knee Arthroplasty\", \"Official_title\": \"The Efficacy of Kinesiology Taping After Total Knee Arthroplasty Surgery\", \"Conditions\": [\"Knee Arthroplasty\", \"Pain\", \"Edema\"], \"Interventions\": [\"Other: Exercise\", \"Other: Sham taping\", \"Other: kinesio tape\"], \"Location_Countries\": [\"Turkey\"], \"Study_Design\": {\"Study_Type\": \"INTERVENTIONAL\", \"Phase\": [\"NA\"], \"Primary_Purpose\": \"TREATMENT\", \"Allocation\": \"RANDOMIZED\", \"Interventional_Model\": \"PARALLEL\", \"Masking\": \"DOUBLE\"}, \"Recruitment_Information\": {\"Study_Start_Date(Actual)\": \"2022-07-14\", \"Primary_Completion_Date(Actual)(Final_data_collection_date_for_primary_outcome_measure)\": \"2023-02-12\", \"Study_Completion_Date(Actual)\": \"2023-02-22\"}, \"Study_Record_Dates\": {\"Study_Registration_Dates\": {\"First_Submitted\": \"2022-07-03\", \"First_Posted(Estimated)\": \"2022-07-14\"}, \"Study_Record_Updates\": {\"Last_Updated_that_Met_QC_Criteria\": \"2022-07-11\", \"Last_Update_Posted(Estimated)\": \"2023-02-23\", \"Last_Verified\": \"2023-02\"}}}, \"description\": \"#Study Description \\\\nBrief Summary \\\\nIn this prospective, randomized controlled trial; To evaluate the effect of kinesiology taping applied for edema on pain, edema and functions in the early period after total knee replacement.Patients who underwent total knee replacement will be included in the 10-day follow-up study.Patients will be divided into three groups by randomization. A conservative postoperative physiotherapy program, which is routinely applied to all groups, will be applied. Thus, no patient will be left without treatment. The first group will be considered as the control group, which will be given only a conservative physiotherapy program.\\\\n\\\\nIn addition to the conservative postoperative physiotherapy program, the 2nd group will be taped without applying tension with a plaster and will be considered as the sham group.\\\\n\\\\nIn the third group, in addition to the conservative postoperative physiotherapy program, kinesiotaping for payment will be applied.\\\\n\\\\nDetailed Description \\\\nPatients will be divided into three groups by randomization. A conservative postoperative physiotherapy program, which is routinely applied to all groups, will be applied. Thus, no patient will be left without treatment. The first group will be considered as the control group, which will be given only a conservative physiotherapy program.\\\\n\\\\nIn addition to the conservative postoperative physiotherapy program, the 2nd group will be taped without applying tension with a plaster and will be considered as the sham group.\\\\n\\\\nIn the third group, in addition to the conservative postoperative physiotherapy program, kinesiotaping for payment will be applied.\\\\n\\\\nIt is planned to prevent bias between the groups by giving standard analgesic treatment to all three groups in the postoperative period. In the postoperative period, Paracetamol 10 mg/ml Infusion 3\\\\\\\\*1, 100 mg tramadol hydrochloride tablet 2\\\\\\\\*1 and celecoxib capsule 100 mg 2\\\\\\\\*1 will be routinely administered until the discharge period.\\\\n\\\\nConservative postoperative physiotherapy program:\\\\n\\\\nConservative exercise program will be started on the second day after the surgery. All patients will receive an exercise program combined with a 20-minute local cold application once a day. Ankle pumping exercises, deep breathing exercises, isometric knee and hip circumference strengthening exercises, sitting by the bed, timed walking with a tolerable load on the prosthetic side will be recommended.\\\\n\\\\nThe number and frequency of exercises were gradually increased; isotonic knee and hip circumference strengthening exercises It will be added. After the drainage of the surgical wound is removed on the 2nd or 3rd day, the patients will be discharged on the 4th postoperative day. All patients will be informed about the conditions and activities that need attention. Patients who continue their home exercise program after discharge will be called for control on the 10th day.\\\\n\\\\nKinesio taping: In addition to its use in regional pain syndromes in recent years, KT application has also been reported in the literature after various non-orthopedic surgical procedures . Today, after KT application, which is widely used in orthopedics, especially in arthroscopic interventions, no negative effects have been observed on patients, and positive results have been reported, especially in the early period. The investigators aimed to compare this treatment method, which has been shown to be effective in studies performed after total knee arthroplasty, with SHAM taping and conservative postoperative physiotherapy program control group in a prospective randomized comparison.\\\\n\\\\nKinesiotaping is applied to the sub-knee region in accordance with the lymphatic correction technique in order to reduce edema and pain from the first postoperative day in the group receiving KT treatment.Accordingly, the proximal part of the tape will be placed close to the lymph node.In our study, as stated in the literature, the proximal part of the tape will be adhered to the fibular head area next to the lymph nodes without applying any stretching.Then 5-10% stretching is applied and the distal part is adhered.\\\\n\\\\nThe strips are applied as 2 separate bands crossing each other (from the medial and lateral of the knee).The patients will be taped with kinesio tape on the first day and the third day postoperatively, and they will be discharged on the fourth day.\\\\n\\\\nAfter discharge, participant will be asked to remove the bands after 3 days as instructed.\\\\n\\\\nSHAM taping: Sham application will be taped with a plaster from the same area on the same days as the kinesio application. No tension will be applied while taping. The difference of the plaster from the kinesiotape is that it does not contain tension and does not allow stretching.\\\\n\\\\nKinesiotaping application; It will be done by a physical therapist who has a kinesiology taping course certificate.\\\\n\\\\n#Intervention \\\\n- OTHER : kinesio tape \\\\n\\\\t- According to this, the proximal part of the band is located close to the lymph node. In our study, as stated in the literature, the proximal part of the tape will be adhered to the fibular head area next to the lymph nodes without applying any stretching. Then 5-10% stretching is applied and the distal part is adhered. 2 separate tapes are applied so that the strips cross each other\\\\n- OTHER : Sham taping \\\\n\\\\t- In the same procedure and time as kinesiotaping, inelastic tape will be used instead of kinesiotape.\\\\n- OTHER : Exercise \\\\n\\\\t- Routine exercise and physiotherapy program applied after knee arthroplasty surgery will be applied\", \"criteria\": \"#Eligibility Criteria:\\\\nInclusion Criteria:\\\\n\\\\n* Performing total knee joint arthroplasty due to stage 4 gonarthrosis\\\\n* Agree to participate in the study\\\\n* Having signed the informed consent form\\\\n\\\\nExclusion Criteria:\\\\n\\\\n* Presence of malignancy, infection, rheumatological disease\\\\n* Having a tape allergy\\\\n* Having a diagnosis of lymphedema\\\\n\\\\nSex :\\\\nALL\\\\n\\\\nAges : \\\\n- Minimum Age : 40 Years\\\\n- Maximum Age : 99 Years\\\\n- Age Group (Child: birth-17, Adult: 18-64, Older Adult: 65+) : OLDER_ADULT, ADULT\\\\n\\\\nAccepts Healthy Volunteers:\\\\n No\\\\n\"}'}, {'id': 'NCT05847725', 'distance': 46.416481018066406, 'document': '{\"metadata\": {\"NCT_ID\": \"NCT05847725\", \"Brief_Title\": \"Effects of Bandaging and Kinesiotaping\\\\u00ae in Patients With Total Knee Arthroplasty\", \"Official_title\": \"Effects of Bandaging and Kinesiotaping\\\\u00ae on Pain, Edema, and Functional Level in Patients With Total Knee Arthroplasty in the Early Postoperative Period: A Randomized Clinical Trial\", \"Conditions\": [\"Knee Osteoarthritis\"], \"Interventions\": [\"Other: Elastic bandaging\", \"Other: Kinesio taping\", \"Other: Short stretch bandaging\"], \"Study_Design\": {\"Study_Type\": \"INTERVENTIONAL\", \"Phase\": [\"NA\"], \"Primary_Purpose\": \"SUPPORTIVE_CARE\", \"Allocation\": \"RANDOMIZED\", \"Interventional_Model\": \"PARALLEL\", \"Masking\": \"SINGLE\"}, \"Recruitment_Information\": {\"Study_Start_Date(Actual)\": \"2015-05\", \"Primary_Completion_Date(Actual)(Final_data_collection_date_for_primary_outcome_measure)\": \"2016-06\", \"Study_Completion_Date(Actual)\": \"2016-12\"}, \"Study_Record_Dates\": {\"Study_Registration_Dates\": {\"First_Submitted\": \"2023-04-01\", \"First_Posted(Estimated)\": \"2023-05-08\"}, \"Study_Record_Updates\": {\"Last_Updated_that_Met_QC_Criteria\": \"2023-04-27\", \"Last_Update_Posted(Estimated)\": \"2023-05-09\", \"Last_Verified\": \"2023-05\"}}}, \"description\": \"#Study Description \\\\nBrief Summary \\\\nThe study aimed to compare the effectiveness of elastic bandaging, Kinesio taping, and short stretch bandaging techniques on postoperative pain, edema, and functional level in the early stage after total knee arthroplasty.\\\\n\\\\nDetailed Description \\\\nThe study was conducted on 30 volunteer subjects who underwent unilateral total knee arthroplasty surgery. Thirty participants who underwent unilateral total knee arthroplasty were divided into the Elastic Bandage Group (n=10), Kinesio Tape group (n=10), and Short Stretch Bandage group (n=10). All treatments were stopped on the eighth day. All measurements taken preoperatively were repeated postoperative 1st, 3rd, 5th, 8th, 14th, 28th days, 6th week, and 3rd month. The functional level was measured in the sixth week and third month.\\\\n\\\\n#Intervention \\\\n- OTHER : Elastic bandaging \\\\n\\\\t- The bandages were wrapped circularly along the extremity from the toes to the groin, drawing an \\'8\\' at the ankle with a 50% overlap rate, starting with 80% tension and decreasing the pressure proximally.\\\\n- OTHER : Short stretch bandaging \\\\n\\\\t- Short tension bandage application was started on postoperative day 1 following the removal of the drains. According to the width of the extremity, using short tension bandages of 6, 8 and 10 cm width, starting from the sole of the foot, the first layer was wrapped circularly with 50% overlapping rate, 80% tension, and wrapped from the sole of the foot to the groin.\\\\n- OTHER : Kinesio taping \\\\n\\\\t- Kinesio taping was applied in the form of a fan by cutting into 4 longitudinal pieces using the lymphatic correction technique with 15-20% tension, starting from the periphery of the inguinal lymph nodes on the medial, anterior and lateral of the leg, following the removal of the drains from the 1st post-op day.\", \"criteria\": \"#Eligibility Criteria:\\\\nInclusion Criteria:\\\\n\\\\n* >= 60 years patients who had undergone unilateral TKA surgery for primary knee osteoarthritis, rheumatoid arthritis, and posttraumatic arthritis.\\\\n\\\\nExclusion Criteria:\\\\n\\\\n* Body mass index greater than or equal to 35 kg/m2,\\\\n* Having a neurological or peripheral vascular disease,\\\\n* Having a contraindication condition for compression application (e.g., acute cellulitis, arterial insufficiency, unstable heart disease, acute deep vein thrombosis), and kinesio taping application (e.g., presence of active infectious, lymphedema and/ or cancer history)\\\\n\\\\nSex :\\\\nALL\\\\n\\\\nAges : \\\\n- Minimum Age : 60 Years\\\\n- Maximum Age : 85 Years\\\\n- Age Group (Child: birth-17, Adult: 18-64, Older Adult: 65+) : OLDER_ADULT, ADULT\\\\n\\\\nAccepts Healthy Volunteers:\\\\n No\\\\n\"}'}, {'id': 'NCT06086717', 'distance': 48.878849029541016, 'document': '{\"metadata\": {\"NCT_ID\": \"NCT06086717\", \"Brief_Title\": \"Comparison of Kinesio Taping and Dry Needling in Grade 1, 2 Knee Osteoarthritis\", \"Official_title\": \"Comparison of Kinesio Taping and Dry Needling in the Management of Grade 1, 2 Knee Osteoarthritis\", \"Conditions\": [\"Osteoarthritis, Knee\"], \"Interventions\": [\"Other: Kinesio Taping\", \"Other: Dry Needling\"], \"Location_Countries\": [\"Pakistan\"], \"Study_Design\": {\"Study_Type\": \"INTERVENTIONAL\", \"Phase\": [\"NA\"], \"Primary_Purpose\": \"TREATMENT\", \"Allocation\": \"RANDOMIZED\", \"Interventional_Model\": \"PARALLEL\", \"Masking\": \"NONE\"}, \"Recruitment_Information\": {\"Study_Start_Date(Actual)\": \"2022-01-12\", \"Primary_Completion_Date(Actual)(Final_data_collection_date_for_primary_outcome_measure)\": \"2022-11-30\", \"Study_Completion_Date(Actual)\": \"2023-01-31\"}, \"Study_Record_Dates\": {\"Study_Registration_Dates\": {\"First_Submitted\": \"2023-10-11\", \"First_Posted(Estimated)\": \"2023-10-17\"}, \"Study_Record_Updates\": {\"Last_Updated_that_Met_QC_Criteria\": \"2023-10-11\", \"Last_Update_Posted(Estimated)\": \"2023-10-27\", \"Last_Verified\": \"2023-10\"}}}, \"description\": \"#Study Description \\\\nBrief Summary \\\\nThis study\\'s aim was:\\\\n\\\\n- To determine the effects of kinesio taping and dry needling on pain, ROMs, functional mobility, and quality of life in knee OA patients.\\\\n\\\\nDetailed Description \\\\nThis was a randomized clinical trial in which Grade 1, 2 Knee Osteoarthritis patients were randomized into two groups: Group-A and Group-B. Group-A participants received Kinesio taping while Group-B participants received dry needling as an adjunct to the conventional physical therapy treatment. The intervention was carried out for four weeks with frequency of two sessions per week. Outcome measures were assessed at baseline, after two weeks, and after 4 weeks, using Visual Analog Scale (VAS), Western Ontario and McMaster Universities Osteoarthritis Index (WOMAC), Knee Range of Motion (ROM), and SF-12 Quality of Life Questionnaire.\\\\n\\\\n#Intervention \\\\n- OTHER : Kinesio Taping \\\\n\\\\t- One Y-shaped strap with 25% stretch was applied from the mid third of the thigh over the rectus femoris, then its ends directed toward the tibial tuberosity by enwrapping the patella from lateral and medial sides. In 45\\\\u00b0 knee flexion one eye strap from medial to lateral was applied through the collateral medial and lateral ligaments.\\\\n\\\\nFor the facilitation of VMO 1 eye strap with 25% stretch from medial aspect of thigh to quadriceps tendon. Lastly, 1 eye strap with 25% stretch from tibial tuberosity to lateral aspect of thigh for inhibition of Vastus lateralis\\\\n- OTHER : Dry Needling \\\\n\\\\t- Following a protocol according to patient and limb, the tensor fasciae latae, hip adductors, hamstrings, quadriceps, gastrocnemius, and popliteus muscles were properly examined in each subject. These muscles are frequently involved in muscle-related knee pain.\\\\n\\\\nPatients with knee OA who had at least one active MTrP that produced pain were recruited. Patients received a total of 8 DN sessions (2 sessions per week for 4 weeks) at all MTrPs of the lower limbs using the fast-in and fast-out technique (the needle was moved up and down within the muscle).\", \"criteria\": \"#Eligibility Criteria:\\\\nInclusion Criteria:\\\\n\\\\n* Clinically diagnosed patients of grade 1, 2 knee OA (Kallgren and Lawrence).\\\\n* Pain and/or tenderness around knee joint\\\\n* Knee OA patients with tightness in Quadriceps, Hamstrings, and Iliotibial band.\\\\n* Patients with pain of >4 on VAS.\\\\n\\\\nExclusion Criteria:\\\\n\\\\n* Patients who had received Intra-articular Steroid injections in knee joints.\\\\n* Patients who had suffered a traumatic injury to knee joint within past 6 months prior to this study.\\\\n* Patients with any surgical intervention to the knee joints.\\\\n* Patients with peripheral vascular disease.\\\\n* Patients with diagnosed tumors, malignancies, infection associated with knee joint.\\\\n* Patients with lower limb metallic implants.\\\\n\\\\nSex :\\\\nALL\\\\n\\\\nAges : \\\\n- Minimum Age : 40 Years\\\\n- Maximum Age : 60 Years\\\\n- Age Group (Child: birth-17, Adult: 18-64, Older Adult: 65+) : ADULT\\\\n\\\\nAccepts Healthy Volunteers:\\\\n No\\\\n\"}'}]\n"
     ]
    }
   ],
   "source": [
    "print(\n",
    "    client.retrieve_relevant_studies(\"Effect of Kinesiotaping on Edema Management, Pain and Function on Patients With Bilateral Total Knee Arthroplasty [SEP] After being informed about the study and potential risk, all patients undergoing inpatient rehabilitation after bilateral total knee arthroplasty will have Kinesio(R)Tape applied to one randomly selected leg while the other leg serves as a control. Measurement of bilateral leg circumference, knee range of motion, numerical rating scale for pain, and selected questions from the Knee Injury and Osteoarthritis Outcome Score will occur at regular intervals throughout the rehabilitation stay. Patients will receive standard rehabilitation.\", \n",
    "                              \"NCT05013879\"))"
   ]
  },
  {
   "cell_type": "markdown",
   "metadata": {},
   "source": [
    "## Using Llama 3.1"
   ]
  },
  {
   "cell_type": "code",
   "execution_count": 3,
   "metadata": {},
   "outputs": [],
   "source": [
    "# from vllm import LLM, SamplingParams\n",
    "# from transformers import AutoTokenizer\n",
    "\n",
    "# model_id = \"neuralmagic/Meta-Llama-3.1-8B-Instruct-quantized.w8a16\"\n",
    "# number_gpus = 1\n",
    "\n",
    "# tokenizer = AutoTokenizer.from_pretrained(model_id)\n",
    "\n",
    "# llm = LLM(model=model_id, tensor_parallel_size=number_gpus, max_model_len=20000)\n",
    "\n",
    "# def pipe(messages):\n",
    "#     sampling_params = SamplingParams(temperature=0, top_p=0.9, max_tokens=4096)\n",
    "#     prompts = tokenizer.apply_chat_template(messages, add_generation_prompt=True, tokenize=False)\n",
    "#     outputs = llm.generate(prompts, sampling_params)\n",
    "#     return [i.outputs[0].text for i in outputs]"
   ]
  },
  {
   "cell_type": "code",
   "execution_count": 4,
   "metadata": {},
   "outputs": [],
   "source": [
    "# import pandas as pd\n",
    "# from datasets import load_dataset\n",
    "# from tqdm import tqdm\n",
    "\n",
    "# # Load the JSON data\n",
    "# ravis_dataset = load_dataset(\"ravistech/clinical-trial-llm-cancer-restructure\")\n",
    "\n",
    "# # Initialize an empty DataFrame\n",
    "# df = pd.DataFrame(columns=['encoded_related_studies', 'title', 'description', 'desired_criteria', 'messages'])\n",
    "\n",
    "# for study in tqdm(ravis_dataset['train']):\n",
    "#     print(f\"Processing {study}\")\n",
    "#     info_for_prompt = prompt_gen.get_info_for_prompt_gen(study)\n",
    "    \n",
    "#     if info_for_prompt:\n",
    "#         encoded_related_studies, title, description, desired_criteria = info_for_prompt\n",
    "#         messages = prompt_gen.get_messages_for_CoT_huggingface(encoded_related_studies, title, description, desired_criteria)\n",
    "        \n",
    "#         # Add the data to the DataFrame\n",
    "#         df = df.append({\n",
    "#             'encoded_related_studies': encoded_related_studies,\n",
    "#             'title': title,\n",
    "#             'description': description,\n",
    "#             'desired_criteria': desired_criteria,\n",
    "#             'messages': messages\n",
    "#         }, ignore_index=True)\n",
    "        \n",
    "#         print(f\"Prompt: {messages}\")\n",
    "#         print(f\"Response: {pipe(messages)}\")\n",
    "\n",
    "# # Save the DataFrame to a CSV file\n",
    "# df.to_csv('responses_gemini.csv', index=False)\n",
    "\n",
    "\n"
   ]
  },
  {
   "cell_type": "markdown",
   "metadata": {},
   "source": [
    "## Using Gemini"
   ]
  },
  {
   "cell_type": "code",
   "execution_count": null,
   "metadata": {},
   "outputs": [
    {
     "name": "stderr",
     "output_type": "stream",
     "text": [
      " 12%|█▏        | 26409/213877 [04:52<34:08, 91.50it/s]  "
     ]
    }
   ],
   "source": [
    "import time\n",
    "import pandas as pd\n",
    "import json\n",
    "from datasets import load_dataset\n",
    "from tqdm import tqdm\n",
    "import vertexai\n",
    "from vertexai.batch_prediction import BatchPredictionJob\n",
    "import os\n",
    "import uuid\n",
    "\n",
    "PROJECT_ID = \"PROJECT-ID\"  # update with Google Cloud project ID\n",
    "BUCKET_NAME = \"BUCKET-NAME\" # create a bucket in Google Cloud Storage first\n",
    "OUTPUT_DIR = \"./output/\"\n",
    "CSV_OUTPUT_PATH = \"./responses_gemini.csv\"\n",
    "vertexai.init(project=PROJECT_ID, location=\"us-central1\")\n",
    "\n",
    "ravis_dataset = load_dataset(\"ravistech/clinical-trial-llm-Open_condition_Cleaned_dup_NCT_ID\")\n",
    "\n",
    "batch_prompts = []\n",
    "info_data = {}  # key is uuid, value is the info for the prompt\n",
    "for study in tqdm(ravis_dataset['train']):\n",
    "    info_for_prompt = prompt_gen.get_info_for_prompt_gen(study)\n",
    "    \n",
    "    if info_for_prompt:\n",
    "        unique_id = str(uuid.uuid4())  # gen uuid for each entries\n",
    "        encoded_related_studies, title, description, desired_criteria = info_for_prompt\n",
    "        messages = prompt_gen.user_prompt_template(encoded_related_studies, title, description, desired_criteria)\n",
    "\n",
    "        request_format = {\n",
    "            \"id\": unique_id,\n",
    "            \"request\": {\n",
    "                \"contents\": [\n",
    "                    {\n",
    "                        \"role\": \"user\",\n",
    "                        \"parts\": [\n",
    "                            {\"text\": messages}\n",
    "                        ]\n",
    "                    }\n",
    "                ],\n",
    "                \"system_instruction\": {\n",
    "                    \"parts\": [\n",
    "                        {\"text\": prompt_gen.system_prompt}\n",
    "                    ]\n",
    "                }\n",
    "            }\n",
    "        }\n",
    "        batch_prompts.append(request_format)\n",
    "        \n",
    "        # store info with unique ID for later matching with the response\n",
    "        info_data[unique_id] = {\n",
    "            \"encoded_related_studies\": encoded_related_studies,\n",
    "            \"title\": title,\n",
    "            \"description\": description,\n",
    "            \"desired_criteria\": desired_criteria,\n",
    "            \"messages\": messages,\n",
    "            \"response\": None\n",
    "        }\n",
    "\n",
    "input_jsonl_path = f'gs://{BUCKET_NAME}/prompt_for_batch_gemini_predict.jsonl'\n",
    "with open('./prompt_for_batch_gemini_predict.jsonl', 'w') as f:\n",
    "    for prompt in batch_prompts:\n",
    "        f.write(json.dumps(prompt) + '\\n')\n",
    "\n",
    "# # Upload the JSONL file to GCS\n",
    "!gsutil cp ./prompt_for_batch_gemini_predict.jsonl {input_jsonl_path}\n",
    "\n",
    "batch_prediction_job = BatchPredictionJob.submit(\n",
    "    source_model=\"gemini-1.5-flash-002\",\n",
    "    input_dataset=input_jsonl_path,\n",
    "    output_uri_prefix=f'gs://{BUCKET_NAME}/output/',\n",
    ")\n",
    "\n",
    "print(f\"Job resource name: {batch_prediction_job.resource_name}\")\n",
    "print(f\"Model resource name with the job: {batch_prediction_job.model_name}\")\n",
    "print(f\"Job state: {batch_prediction_job.state.name}\")\n",
    "\n",
    "# Check the job status\n",
    "while not batch_prediction_job.has_ended:\n",
    "    time.sleep(5)\n",
    "    batch_prediction_job.refresh()\n",
    "\n",
    "# Process the output if the job is successful\n",
    "if batch_prediction_job.has_succeeded:\n",
    "    print(\"Job succeeded!\")\n",
    "    output_location = batch_prediction_job.output_location + \"/predictions.jsonl\"\n",
    "    os.makedirs(OUTPUT_DIR, exist_ok=True)\n",
    "    local_output_path = os.path.join(OUTPUT_DIR, \"predictions.jsonl\")\n",
    "\n",
    "    # Download the output file from GCS\n",
    "    !gsutil cp {output_location} {local_output_path}\n",
    "    print(f\"Output file downloaded to: {local_output_path}\")\n",
    "    \n",
    "    with open(local_output_path, 'r') as f:\n",
    "        for line in f:\n",
    "            response_data = json.loads(line)\n",
    "            unique_id = response_data.get(\"id\")\n",
    "            response = response_data.get(\"response\", {})\n",
    "            \n",
    "            if unique_id in info_data:\n",
    "                info_data[unique_id][\"response\"] = response\n",
    "\n",
    "    df = pd.DataFrame.from_dict(info_data, orient=\"index\")\n",
    "    df.to_csv(CSV_OUTPUT_PATH, index=False)\n",
    "    print(f\"Responses saved to CSV at: {CSV_OUTPUT_PATH}\")\n",
    "else:\n",
    "    print(f\"Job failed: {batch_prediction_job.error}\")\n",
    "\n",
    "print(f\"Job output location: {batch_prediction_job.output_location}\")\n",
    "\n"
   ]
  }
 ],
 "metadata": {
  "kernelspec": {
   "display_name": "ML",
   "language": "python",
   "name": "python3"
  },
  "language_info": {
   "codemirror_mode": {
    "name": "ipython",
    "version": 3
   },
   "file_extension": ".py",
   "mimetype": "text/x-python",
   "name": "python",
   "nbconvert_exporter": "python",
   "pygments_lexer": "ipython3",
   "version": "3.11.9"
  }
 },
 "nbformat": 4,
 "nbformat_minor": 2
}
